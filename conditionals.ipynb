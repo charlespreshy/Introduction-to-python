{
 "cells": [
  {
   "cell_type": "markdown",
   "metadata": {},
   "source": [
    "Program codes follow an order of execution called control structure\n",
    "\n",
    "There are three basic types of control structures in programming. They are: \n",
    "1. Sequential control structure\n",
    "2. Selection control structure\n",
    "3. Iteration control structure\n",
    "\n",
    "#### Sequential\n",
    "\n",
    "This is when program codeas are meant to run sequential from top to bottom without any interruptions or branching\n",
    "\n",
    "(All the programs we have written so far has followed this structure because they were simply run in a linear format)\n",
    "\n",
    "\n",
    "#### Selection\n",
    "\n",
    "This is when program codes are made to execute based on a ocndition. A code or group of codes could be made to execute if a given condition is true. This type of structure enables our program to mimic decision making.\n",
    "\n",
    "Generally, selection structures are implemented using sb>if</b>, <b>if else</b> and <b>if else if else</b> statements based on the number of conditions to be implemented.\n",
    "\n",
    "if - one condition, no alternative action\n",
    "if else - one condition with alternative action\n",
    "if else if else - multiple condition with alternative action"
   ]
  },
  {
   "cell_type": "code",
   "execution_count": 1,
   "metadata": {},
   "outputs": [
    {
     "name": "stdout",
     "output_type": "stream",
     "text": [
      "End\n"
     ]
    }
   ],
   "source": [
    "#use of if statement\n",
    "    \n",
    "x = 20\n",
    "y = 12\n",
    "\n",
    "if x < y: \n",
    "    print(y)\n",
    "    print(\"Thank you for running my program\") # this program line executes only if the conditional statement is true\n",
    "    \n",
    "print(\"End\") #this program executes because it is outside the if statement block\n"
   ]
  },
  {
   "cell_type": "code",
   "execution_count": 2,
   "metadata": {},
   "outputs": [
    {
     "name": "stdout",
     "output_type": "stream",
     "text": [
      "12\n"
     ]
    }
   ],
   "source": [
    "#use of if else statement\n",
    "\n",
    "x = 5\n",
    "y = 12\n",
    "\n",
    "if x < y:\n",
    "    print(y)\n",
    "else: \n",
    "    print(x)"
   ]
  },
  {
   "cell_type": "code",
   "execution_count": 3,
   "metadata": {},
   "outputs": [
    {
     "name": "stdout",
     "output_type": "stream",
     "text": [
      "-5 is a negative number\n"
     ]
    }
   ],
   "source": [
    "#use of if and elif statement\n",
    "\n",
    "x = -5\n",
    "y = 20\n",
    "\n",
    "if x == 0:\n",
    "    print(x, \"is undefined\")\n",
    "elif x < 0:\n",
    "    print(x, \"is a negative number\")\n",
    "elif x < y:\n",
    "    print(y)\n",
    "elif x > y:\n",
    "    print(x)\n",
    "else:\n",
    "    print(x, \"is definitely equal to \", y)"
   ]
  },
  {
   "cell_type": "markdown",
   "metadata": {},
   "source": [
    "Quiz: \n",
    "1. Write a program to accept two integer values from the user and output the greater number\n",
    "2. write a program to accept 3 float values from the user and prints the results when the smallest number divides the two numbers respectively\n",
    "3. Write a program to accept 10 integer values from the user, that outputs only the even numbers and also outputs the total number of even numbers."
   ]
  },
  {
   "cell_type": "code",
   "execution_count": 2,
   "metadata": {},
   "outputs": [
    {
     "name": "stdout",
     "output_type": "stream",
     "text": [
      "Enter your first number: 45\n",
      "Enter your second number: 38\n",
      "45 is the greater number\n"
     ]
    }
   ],
   "source": [
    "#A program that accepts two integer values from the user and outputs the greater number\n",
    "x = int(input(\"Enter your first number: \"))\n",
    "y = int(input(\"Enter your second number: \"))\n",
    "\n",
    "if x < y:\n",
    "    print(y, \"is the greater number\")\n",
    "elif x > y:\n",
    "    print(x, \"is the greater number\")\n",
    "elif x == y:\n",
    "    print(x, \"is equal to \", y)\n",
    "else:\n",
    "    print(\"Your program has ended\")\n",
    "    "
   ]
  },
  {
   "cell_type": "code",
   "execution_count": 3,
   "metadata": {},
   "outputs": [
    {
     "name": "stdout",
     "output_type": "stream",
     "text": [
      "Enter your first float number: 79.6\n",
      "Enter your second float number: 43.7\n",
      "Enter your third float number: 98.4\n",
      "1.8215102974828372 is the result of the division of  79.6 by 43.7\n",
      "2.251716247139588 is the result of the division of  98.4 by 43.7\n"
     ]
    }
   ],
   "source": [
    "\"\"\"A program that accepts 3 float values from the user and \n",
    "prints the results when the smallest number divides the two numbers respectively\"\"\"\n",
    "\n",
    "x = float(input(\"Enter your first float number: \"))\n",
    "y = float(input(\"Enter your second float number: \"))\n",
    "z = float(input(\"Enter your third float number: \"))\n",
    "\n",
    "if x < y and x < z:\n",
    "    print(y/x, \"is the result of the division of \", y , \"by\", x)\n",
    "    print(z/x, \"is the result of the division of \", z , \"by\", x)\n",
    "elif y < x and y < z:\n",
    "    print(x/y, \"is the result of the division of \", x , \"by\", y)\n",
    "    print(z/y, \"is the result of the division of \", z , \"by\", y)\n",
    "elif z < x and z < y:\n",
    "    print(x/z, \"is the result of the division of \", x , \"by\", z)\n",
    "    print(y/z, \"is the result of the division of \", y , \"by\", z)\n",
    "elif x == y == z:\n",
    "    print(\"No division can take place\")\n",
    "else:\n",
    "    (\"Your program just terminated\")\n",
    "    "
   ]
  },
  {
   "cell_type": "code",
   "execution_count": 4,
   "metadata": {},
   "outputs": [
    {
     "name": "stdout",
     "output_type": "stream",
     "text": [
      "Enter your first number: 4\n",
      "Enter your second number: 39\n",
      "Enter your third number: 34\n",
      "Enter your fourth number: 55\n",
      "Enter your fifth number: 21\n",
      "Enter your sixth number: 90\n",
      "Enter your seventh number: 67\n",
      "Enter your eight number: 87\n",
      "Enter your ninth number: 89\n",
      "Enter your tenth number: 24\n",
      "4\n",
      "34\n",
      "90\n",
      "24\n",
      "Total number of even numbers are:  4\n"
     ]
    }
   ],
   "source": [
    "\"\"\"Write a program to accept 10 integer values from the user,outputs only the even numbers \n",
    "and also outputs the total number of even numbers.\"\"\"\n",
    "\n",
    "b = int(input(\"Enter your first number: \"))\n",
    "c = int(input(\"Enter your second number: \"))\n",
    "d = int(input(\"Enter your third number: \"))\n",
    "f = int(input(\"Enter your fourth number: \"))\n",
    "g = int(input(\"Enter your fifth number: \"))\n",
    "h = int(input(\"Enter your sixth number: \"))\n",
    "j = int(input(\"Enter your seventh number: \"))\n",
    "k = int(input(\"Enter your eight number: \"))\n",
    "l = int(input(\"Enter your ninth number: \"))\n",
    "m = int(input(\"Enter your tenth number: \"))\n",
    "\n",
    "even_count = 0\n",
    "\n",
    "if b % 2 == 0:\n",
    "    print(b)\n",
    "    even_count +=1\n",
    "if c % 2 == 0:\n",
    "    print(c)\n",
    "    even_count +=1\n",
    "if d % 2 == 0:\n",
    "    print(d)\n",
    "    even_count +=1\n",
    "if f % 2 == 0:\n",
    "    print(f)\n",
    "    even_count +=1\n",
    "if g % 2 == 0:\n",
    "    print(g)\n",
    "    even_count +=1\n",
    "if h % 2 == 0:\n",
    "    print(h)\n",
    "    even_count +=1\n",
    "if j % 2 == 0:\n",
    "    print(j)\n",
    "    even_count +=1\n",
    "if k % 2 == 0:\n",
    "    print(k)\n",
    "    even_count +=1\n",
    "if l % 2 == 0:\n",
    "    print(l)\n",
    "    even_count +=1\n",
    "if m % 2 == 0:\n",
    "    print(m)\n",
    "    even_count +=1\n",
    "    \n",
    "print(\"Total number of even numbers are: \", even_count)"
   ]
  }
 ],
 "metadata": {
  "kernelspec": {
   "display_name": "Python 3",
   "language": "python",
   "name": "python3"
  },
  "language_info": {
   "codemirror_mode": {
    "name": "ipython",
    "version": 3
   },
   "file_extension": ".py",
   "mimetype": "text/x-python",
   "name": "python",
   "nbconvert_exporter": "python",
   "pygments_lexer": "ipython3",
   "version": "3.7.3"
  }
 },
 "nbformat": 4,
 "nbformat_minor": 2
}

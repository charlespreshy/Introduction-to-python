{
 "cells": [
  {
   "cell_type": "markdown",
   "metadata": {},
   "source": [
    "### Challenge\n",
    "1. A store charges 12 dollar per item if you buy less than 10 items. If you buy between 10 and 99 items, the cost is 10 dollar per item. If you buy 100 or more items, the cost is 7 dollar per item. \n",
    "Write a program that asks the user how many items they are buying and prints the total cost.\n",
    "\n",
    "\n",
    "2. Write a program that asks the user how many credits they have taken. If they have taken 23 or less, print that the student is a freshman. If they have taken between 24 and 53, print that they are a sophomore. The range for juniors is 54 to 83, and for seniors it is 84 and over.\n",
    "\n",
    " \n",
    "3. A year is a leap year if it is divisible by 4, except that years divisible by 100 are not leap years unless they are also divisible by 400. Ask the user to enter a year, and, determine if it is a leap year or not\n",
    "\n"
   ]
  },
  {
   "cell_type": "code",
   "execution_count": 1,
   "metadata": {},
   "outputs": [
    {
     "name": "stdout",
     "output_type": "stream",
     "text": [
      "Enter the number of items you are buying: 45\n",
      "The total cost of items is = $ 450\n"
     ]
    }
   ],
   "source": [
    "#A program that asks the user how many items they are buying and prints the total cost.\n",
    "x = int(input(\"Enter the number of items you are buying: \"))\n",
    "if x < 10:\n",
    "    print(\"The total cost of items is = $\", 12 * x)\n",
    "elif x >= 10 and x <= 99:\n",
    "    print(\"The total cost of items is = $\", 10 * x)\n",
    "elif x >= 100:\n",
    "    print(\"The total cost of items is = $\", 7 * x)\n",
    "else:\n",
    "    print(\"wrong input, Try again.\")\n",
    "\n"
   ]
  },
  {
   "cell_type": "code",
   "execution_count": 2,
   "metadata": {},
   "outputs": [
    {
     "name": "stdout",
     "output_type": "stream",
     "text": [
      "Enter the number of credits you have taken: 64\n",
      "You are a junior!\n"
     ]
    }
   ],
   "source": [
    "\"\"\"A program that asks the user how many credits they have taken. If they have taken 23 or less, \n",
    "print that the student is a freshman. If they have taken between 24 and 53, print that they are a sophomore.\n",
    "The range for juniors is 54 to 83, and for seniors it is 84 and over.\"\"\"\n",
    "\n",
    "z = int(input(\"Enter the number of credits you have taken: \"))\n",
    "\n",
    "if z == 1 and z <= 23:\n",
    "    print(\"You are a freshman!\")\n",
    "elif z >= 24 and z <=53:\n",
    "    print(\"You are a sophomore!\")\n",
    "elif z >= 54 and z <=83:\n",
    "    print(\"You are a junior!\")\n",
    "elif z >= 84:\n",
    "    print(\"You are a senior!\")\n",
    "else:\n",
    "    print(\"You are not a student!\")\n",
    "\n",
    "\n",
    "\n"
   ]
  },
  {
   "cell_type": "code",
   "execution_count": 3,
   "metadata": {},
   "outputs": [
    {
     "name": "stdout",
     "output_type": "stream",
     "text": [
      "Enter your choice year: 2020\n",
      "This is a leap year\n"
     ]
    }
   ],
   "source": [
    "\"\"\"A year is a leap year if it is divisible by 4, except that years divisible by 100 are not leap years \n",
    "unless they are also divisible by 400. \n",
    "Ask the user to enter a year, and, determine if it is a leap year or not\"\"\"\n",
    "\n",
    "y = int(input(\"Enter your choice year: \"))\n",
    "\n",
    "if y % 4 == 0:\n",
    "    print(\"This is a leap year\")\n",
    "elif y % 100 == 0:\n",
    "    print(\"This is not a leap year!\")\n",
    "elif y % 4 >= 1:\n",
    "    print(\"This is not a leap year\")\n",
    "elif y % 100 == 0 and y % 400 == 0:\n",
    "    print(\"This is a leap year\")\n",
    "else:\n",
    "    print(\"You have entered an invalid year!\")\n"
   ]
  },
  {
   "cell_type": "code",
   "execution_count": 5,
   "metadata": {},
   "outputs": [
    {
     "name": "stdout",
     "output_type": "stream",
     "text": [
      "Enter your choice year: 2019\n",
      "2019 Is not a leap year\n"
     ]
    }
   ],
   "source": [
    "#Correction\n",
    "y = int(input(\"Enter your choice year: \"))\n",
    "if y % 4 == 0:\n",
    "    if y % 100 == 0 and y % 400 !=0:\n",
    "        print(y, \"is not a leap year\")\n",
    "    else:\n",
    "        print(y, \"is a leap year\")\n",
    "else:\n",
    "    print(y, \"Is not a leap year\")"
   ]
  }
 ],
 "metadata": {
  "kernelspec": {
   "display_name": "Python 3",
   "language": "python",
   "name": "python3"
  },
  "language_info": {
   "codemirror_mode": {
    "name": "ipython",
    "version": 3
   },
   "file_extension": ".py",
   "mimetype": "text/x-python",
   "name": "python",
   "nbconvert_exporter": "python",
   "pygments_lexer": "ipython3",
   "version": "3.7.3"
  }
 },
 "nbformat": 4,
 "nbformat_minor": 2
}

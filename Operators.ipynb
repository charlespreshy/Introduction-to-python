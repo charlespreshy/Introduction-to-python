{
 "cells": [
  {
   "cell_type": "markdown",
   "metadata": {},
   "source": [
    "#### Operators\n",
    "We have two kinds of operators:\n",
    "1. Unary operators - this can operate on a single operand. E.g., x++, ~x\n",
    "2. Binary operators - operates on two operands.\n",
    "\n",
    "##### Types of operators\n",
    "1. Arithmetic operators - +, -, * , /, %, ** , //\n"
   ]
  },
  {
   "cell_type": "code",
   "execution_count": 2,
   "metadata": {},
   "outputs": [
    {
     "name": "stdout",
     "output_type": "stream",
     "text": [
      "8\n",
      "2\n",
      "15\n",
      "1.6666666666666667\n",
      "2\n",
      "125\n",
      "1\n"
     ]
    }
   ],
   "source": [
    "#E.gs of the use of arithmetic operators\n",
    "x = 5\n",
    "y = 3\n",
    "\n",
    "print(x + y)\n",
    "print(x - y)\n",
    "print(x * y)\n",
    "print(x / y)\n",
    "print(x % y)\n",
    "print(x ** y)\n",
    "print(x // y)"
   ]
  },
  {
   "cell_type": "raw",
   "metadata": {},
   "source": [
    "2. Assignment Operators: =, +=, -+, *=, %=, /=, //=, **=\n",
    "\n",
    "3. Comparison operators: \n",
    "== equals\n",
    "!= not equals\n",
    "<= less than or equal to\n",
    ">= greater than or equal to\n",
    "< less than\n",
    "> greater than\n",
    "\n",
    "4. Logical operators: they are used to join relational expressions. they are: And - return true if both expressions are true\n",
    "or - return true if any of the expression is true\n",
    "not - return true if the expression is false\n",
    "N/B: x + y (arithmetic expression)- they evaluate to a numerical value\n",
    "     x < y (relational expression) - they evaluate to a boolean value \n",
    "     x and y (logical expression) - they evaluate to a boolean value \n",
    "\n",
    "5. Identity operators: is, is not\n",
    "\n",
    "6. Membership operators: in, not in\n",
    "\n",
    "7. Bitwise operators: \n",
    "& - bitwise and\n",
    "| - bitwise or \n",
    "^ - bitwise xor\n",
    "~ - bitwise not or complements, \n",
    "<< - left shift\n",
    ">> - right shift\n",
    "\n",
    "\n"
   ]
  },
  {
   "cell_type": "code",
   "execution_count": 1,
   "metadata": {},
   "outputs": [
    {
     "name": "stdout",
     "output_type": "stream",
     "text": [
      "hurrah\n",
      "Awesome\n",
      "Great\n"
     ]
    }
   ],
   "source": [
    "#comparison operators\n",
    "x,y = 5,8\n",
    "\n",
    "if x == y:\n",
    "    print(\"yah\")\n",
    "\n",
    "if x != y:\n",
    "    print(\"hurrah\")\n",
    "    \n",
    "if x < y:\n",
    "    print(\"Awesome\")\n",
    "    \n",
    "if x > y:\n",
    "    print(\"oops\")\n",
    "\n",
    "if x <= y:\n",
    "    print(\"Great\")\n",
    "    \n",
    "if x >= y:\n",
    "    print(\"phew!\")\n",
    "    "
   ]
  },
  {
   "cell_type": "code",
   "execution_count": 2,
   "metadata": {},
   "outputs": [
    {
     "name": "stdout",
     "output_type": "stream",
     "text": [
      "Bad one\n",
      "Fair\n"
     ]
    }
   ],
   "source": [
    "#Logical operators\n",
    "a,b = 5,12\n",
    "\n",
    "if a == b and b < 20:\n",
    "    print(\"Good one\")\n",
    "else:\n",
    "    print(\"Bad one\")\n",
    "    \n",
    "if a < 5 or b > 12:\n",
    "    print(\"Nice\")\n",
    "else:\n",
    "    print(\"Fair\")"
   ]
  },
  {
   "cell_type": "code",
   "execution_count": 1,
   "metadata": {},
   "outputs": [
    {
     "name": "stdout",
     "output_type": "stream",
     "text": [
      "2\n"
     ]
    }
   ],
   "source": [
    "#Bitwise operators\n",
    "print(2 & 3)"
   ]
  },
  {
   "cell_type": "raw",
   "metadata": {},
   "source": [
    "Exercise:\n",
    "1. Create a program that asks the user for a number and then prints out a list of all the dividers (or factors) of that number.\n",
    "2. Generate a random number between 1 and 9 (including 1 and 9). Ask the user to guess the number, then tell them whether they guessed too low, too high, or exactly right.\n",
    "3. Take a list, say for example this one:\n",
    "\n",
    "a = [1, 1, 2, 3, 5, 8, 13, 21, 34, 55, 89]\n",
    "\n",
    "and write a program that prints out all the elements of the list that are less than 5.\n",
    "\n",
    "Extras:\n",
    "\n",
    "    Instead of printing the elements one by one, make a new list that has all the elements less than 5 from this list in it and print out this new list. \n",
    "    write this in one line of python.\n",
    "    Ask the user for a number and return a list that contains only elements from the original list 'a' that are smaller than that number given by the user."
   ]
  },
  {
   "cell_type": "code",
   "execution_count": 14,
   "metadata": {},
   "outputs": [
    {
     "name": "stdout",
     "output_type": "stream",
     "text": [
      "Enter a number: 56\n",
      "[1, 2, 4, 7, 8, 14, 28, 56]\n"
     ]
    }
   ],
   "source": [
    "\"\"\"A program that asks the user for a number and then prints out a list of all \n",
    "the dividers (or factors) of that number.\"\"\"\n",
    "\n",
    "new_list = []\n",
    "nob = int(input(\"Enter a number: \"))\n",
    "\n",
    "for i in range (1,nob + 1):\n",
    "    if nob % i == 0:\n",
    "        new_list.append(i)\n",
    "\n",
    "print(new_list)"
   ]
  },
  {
   "cell_type": "code",
   "execution_count": 21,
   "metadata": {},
   "outputs": [
    {
     "name": "stdout",
     "output_type": "stream",
     "text": [
      "Guess a number?10\n",
      "You have to guess a number between 1 and 9!\n",
      "Guess a number?6\n",
      "Too high!\n",
      "Guess a number?4\n",
      "Too high!\n",
      "Guess a number?2\n",
      "You got it!\n",
      "And it only took you 4 tries!\n"
     ]
    }
   ],
   "source": [
    "\"\"\"A program that generates a random number between 1 and 9 (including 1 and 9). \n",
    "Asks the user to guess the number, then tell them whether they guessed too low, too high, or exactly right.\n",
    "\"\"\"\n",
    "import random\n",
    "\n",
    "number = random.randint(1,9)\n",
    "guess = 0\n",
    "count = 0\n",
    "\n",
    "\n",
    "while guess != number and guess != \"exit\":\n",
    "    guess = input(\"Guess a number? \")\n",
    "    \n",
    "    if guess == \"exit\":\n",
    "        print(\"You just ended the game\")\n",
    "        break\n",
    "    \n",
    "    guess = int(guess)\n",
    "    count += 1\n",
    "    \n",
    "    if guess not in range(1, 10):\n",
    "        print(\"You have to guess a number between 1 and 9!\")\n",
    "    elif guess < number:\n",
    "        print(\"Too low!\")\n",
    "    elif guess > number:\n",
    "        print(\"Too high!\")\n",
    "    else:\n",
    "        print(\"You got it!\")\n",
    "        print(\"And it only took you\",count,\"tries!\")\n"
   ]
  },
  {
   "cell_type": "code",
   "execution_count": 31,
   "metadata": {},
   "outputs": [
    {
     "name": "stdout",
     "output_type": "stream",
     "text": [
      "Enter a number: 23\n",
      "[1, 1, 2, 3, 5, 8, 13, 21]\n"
     ]
    }
   ],
   "source": [
    "'''A program that prints out all the elements of a list that are less\n",
    "than the given number by a user.'''\n",
    "\n",
    "a = [1, 1, 2, 3, 5, 8, 13, 21, 34, 55, 89]\n",
    "\n",
    "new_list = []\n",
    "num = int(input(\"Enter a number: \"))\n",
    "\n",
    "for i in a:\n",
    "    if num > max(a):\n",
    "        print(\"You have to enter a number within the range of list elements!\")\n",
    "        break\n",
    "    elif i < num:\n",
    "        new_list.append(i)\n",
    "        \n",
    "print(new_list)"
   ]
  }
 ],
 "metadata": {
  "kernelspec": {
   "display_name": "Python 3",
   "language": "python",
   "name": "python3"
  },
  "language_info": {
   "codemirror_mode": {
    "name": "ipython",
    "version": 3
   },
   "file_extension": ".py",
   "mimetype": "text/x-python",
   "name": "python",
   "nbconvert_exporter": "python",
   "pygments_lexer": "ipython3",
   "version": "3.7.3"
  }
 },
 "nbformat": 4,
 "nbformat_minor": 2
}

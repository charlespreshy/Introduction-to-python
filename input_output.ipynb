{
 "cells": [
  {
   "cell_type": "code",
   "execution_count": null,
   "metadata": {},
   "outputs": [],
   "source": [
    "import this"
   ]
  },
  {
   "cell_type": "markdown",
   "metadata": {},
   "source": [
    "### Introduction to python\n",
    "\n",
    "1. Aceepting inputs and printing outputs"
   ]
  },
  {
   "cell_type": "code",
   "execution_count": null,
   "metadata": {},
   "outputs": [],
   "source": [
    "print(\"Hello World\")"
   ]
  },
  {
   "cell_type": "markdown",
   "metadata": {},
   "source": [
    "Printing multiple lines"
   ]
  },
  {
   "cell_type": "code",
   "execution_count": null,
   "metadata": {},
   "outputs": [],
   "source": [
    "print(\"Beautiful is better than ugly.\")\n",
    "print(\"Explicit is better than implicit.\")\n",
    "print(\"Simple is better than complex.\")"
   ]
  },
  {
   "cell_type": "markdown",
   "metadata": {},
   "source": [
    "Refactoring the code above"
   ]
  },
  {
   "cell_type": "code",
   "execution_count": null,
   "metadata": {},
   "outputs": [],
   "source": [
    "#The introduction of \\n moves the next statement to the next line\n",
    "print(\"Beautiful is better than ugly.\\nExplicit is better than implicit.\\nSimple is better than complex.\")"
   ]
  },
  {
   "cell_type": "code",
   "execution_count": null,
   "metadata": {},
   "outputs": [],
   "source": [
    "#The use of the triple double quotes helps the code written in multiple line to be displayed and printed in same way.\n",
    "print(\"\"\"Beautiful is better than ugly.\n",
    "Explicit is better than implicit.\n",
    "Simple is better than complex.\"\"\")"
   ]
  },
  {
   "cell_type": "code",
   "execution_count": null,
   "metadata": {},
   "outputs": [],
   "source": [
    "#the statement is printed in multiple lines while the \\n added to the statement, adds another line.\n",
    "print(\"\"\"Beautiful is better than ugly.\\n\n",
    "Explicit is better than implicit.\\n\n",
    "Simple is better than complex.\\n\"\"\")"
   ]
  },
  {
   "cell_type": "markdown",
   "metadata": {},
   "source": [
    "Printing variables\n",
    "\n",
    "A variable is a user-defined name used to hold a value in a code "
   ]
  },
  {
   "cell_type": "code",
   "execution_count": null,
   "metadata": {},
   "outputs": [],
   "source": [
    "x = 8\n",
    "y = 9\n",
    "print(x)\n",
    "print(y)\n",
    "\n",
    "#refactoring the code above\n",
    "x,y = 8,9\n",
    "print(x,y)\n",
    "#or\n",
    "print(x, \"\\n\" ,y)\n"
   ]
  },
  {
   "cell_type": "code",
   "execution_count": null,
   "metadata": {},
   "outputs": [],
   "source": [
    "x,y,z = 15, 8, 5\n",
    "sum = x + y + z\n",
    "print(\"The sum of the three numbers is =\", sum)"
   ]
  },
  {
   "cell_type": "code",
   "execution_count": null,
   "metadata": {},
   "outputs": [],
   "source": [
    "print(input(\"enter your name\"))"
   ]
  },
  {
   "cell_type": "code",
   "execution_count": null,
   "metadata": {},
   "outputs": [],
   "source": [
    "name = input(\"enter your name:\")\n",
    "print(name)"
   ]
  },
  {
   "cell_type": "code",
   "execution_count": null,
   "metadata": {},
   "outputs": [],
   "source": [
    "x = input(\"Enter first num:\")\n",
    "y = input(\"Enter sec num:\")\n",
    "z = input(\"Enter third num:\")\n",
    "sum = x+y+z\n",
    "print(\"The sum of the three numbers = \", sum)\n",
    "\n",
    "case 1: sum = int(x+y+z) #wrong\n",
    "case 2: sum = int(x) + int(y) + int(z) #correct"
   ]
  },
  {
   "cell_type": "markdown",
   "metadata": {},
   "source": [
    "### Rules guiding creation of variable names\n",
    "\n",
    "1. A variable name must not contain space\n",
    "    first number = 5 (wrong)\n",
    "    \n",
    "    first_number = 5 (right)\n",
    "    \n",
    "    you can do this:\n",
    "    \n",
    "    firstnumber = 5 (right, but not recommended)\n",
    "    \n",
    "    \n",
    "2. A variable cannot start with a number\n",
    "     ##### wrong\n",
    "     5x = 9\n",
    "     5th_student = \"chima\"\n",
    "     22_spot = 7\n",
    "     \n",
    "     ##### correct\n",
    "     x5 = 9 \n",
    "     student_5 =\"chima\"\n",
    "     spot_22 = 7\n",
    "    \n",
    "    \n",
    "3. A variable name should not be a recognised python keyword. E.g, print, input, int, def, class...\n"
   ]
  },
  {
   "cell_type": "markdown",
   "metadata": {},
   "source": [
    "#### Data types\n",
    "A datatype is used to define the type(format or nature) of data that is been input into a program.\n",
    "\n",
    "Data types in python:\n",
    "    1. int (whole numbers e.g: 2,3,19,1000)\n",
    "    2. float (a decimal number e.g: 0.45, 4.56, 0.006)\n",
    "    3. str (any set of characters enclosed in a quote e.g \"samuel\", \"ola is a kind teacher\", \"12345\")\n",
    "    4. Boolean\n",
    "    5. list : A list consists of comma sepearted values inclosed in a bracket. E.g [2,4,6,8]. \n",
    "            It can also accept a trailing comma i.e comma at the end or after the last item on the list. \n",
    "            e.g [3,2,5,7,9,]. A list is zero indexed\n",
    "    6. turple\n",
    "    7. dictionary\n"
   ]
  },
  {
   "cell_type": "code",
   "execution_count": 2,
   "metadata": {},
   "outputs": [
    {
     "name": "stdout",
     "output_type": "stream",
     "text": [
      "[2, 4, 6, 7, 9]\n",
      "[3, 5, 4, 6, 9, 8]\n",
      "[4, 2.0, 7.92, 'Hello', True]\n"
     ]
    }
   ],
   "source": [
    "#A list\n",
    "m = [2,4,6,7,9]\n",
    "\n",
    "print(m)\n",
    "\n",
    "#a list can be written also like this\n",
    "m2 = [\n",
    "    3,\n",
    "    5,\n",
    "    4,\n",
    "    6,\n",
    "    9,\n",
    "    8,\n",
    "]\n",
    "\n",
    "print(m2)\n",
    "\n",
    "#A list can contain different type of datatypes.\n",
    "m3 = [4,2.0,7.92,\"Hello\",True]\n",
    "\n",
    "print(m3)"
   ]
  },
  {
   "cell_type": "code",
   "execution_count": 8,
   "metadata": {},
   "outputs": [
    {
     "name": "stdout",
     "output_type": "stream",
     "text": [
      "[['machine learning engineers', 'web developers', 'android developers'], ['Receptionist', 'Tutors', 'secretary'], ['partners', 'CEO']]\n"
     ]
    }
   ],
   "source": [
    "#A list inside a list or a list of a list\n",
    "Ashpot = [\n",
    "        [\"machine learning engineers\",\"web developers\",\"android developers\"],\n",
    "        [\"Receptionist\",\"Tutors\",\"secretary\"],\n",
    "        [\"partners\",\"CEO\"]\n",
    "    ]\n",
    "\n",
    "print(Ashpot)"
   ]
  },
  {
   "cell_type": "markdown",
   "metadata": {},
   "source": [
    "### Accessing list items\n"
   ]
  },
  {
   "cell_type": "code",
   "execution_count": 10,
   "metadata": {},
   "outputs": [
    {
     "name": "stdout",
     "output_type": "stream",
     "text": [
      "The whole list, x =  [4, 6, 8, 9.0, 0.67]\n",
      "the first item on the list =  4\n",
      "the fifth item on the list =  0.67\n",
      "the first two items =  [4, 6]\n",
      "the last two items =  [0.67]\n",
      "duplicate list =  [4, 6, 8, 9.0, 0.67, 4, 6, 8, 9.0, 0.67]\n"
     ]
    }
   ],
   "source": [
    "x = [4,6,8,9.0,0.67]\n",
    "print(\"The whole list, x = \", x)\n",
    "\n",
    "print(\"the first item on the list = \", x[0])\n",
    "print(\"the fifth item on the list = \", x[4])\n",
    "\n",
    "#A slice (:) is used to print range of numbers in a list item\n",
    "print(\"the first two items = \", x[:2]) #starting from index 0, print the first two items \n",
    "print(\"the last two items = \", x[4:]) #starting from index 4, print the rest items on the list\n",
    "\n",
    "print(\"duplicate list = \", x * 2)\n"
   ]
  },
  {
   "cell_type": "markdown",
   "metadata": {},
   "source": [
    "Quiz 2:\n",
    "    write a program that accepts an input of 5 numbers from the user and prints out the sum and the average of the 5 numbers. "
   ]
  },
  {
   "cell_type": "code",
   "execution_count": 1,
   "metadata": {},
   "outputs": [
    {
     "name": "stdout",
     "output_type": "stream",
     "text": [
      "Enter the first number: 7\n",
      "Enter the second number: 8\n",
      "Enter the third number: 9\n",
      "Enter the fourth number: 4\n",
      "Enter the fifth number: 13\n",
      "The sum of the five numbers are =  41\n",
      "The average of the five numbers are =  20.5\n"
     ]
    }
   ],
   "source": [
    "a = int(input(\"Enter the first number: \"))\n",
    "b = int(input(\"Enter the second number: \"))\n",
    "c = int(input(\"Enter the third number: \"))\n",
    "d = int(input(\"Enter the fourth number: \"))\n",
    "e = int(input(\"Enter the fifth number: \"))\n",
    "\n",
    "sum = a + b + c + d + e\n",
    "average = sum/2\n",
    "\n",
    "print(\"The sum of the five numbers are = \", sum)\n",
    "print(\"The average of the five numbers are = \", average)\n",
    "\n",
    "\n"
   ]
  },
  {
   "cell_type": "markdown",
   "metadata": {},
   "source": [
    "Quiz 3: \n",
    "write a program to accept two float numbers from the user and ouputs the result when the first number is divided by the second number.\n"
   ]
  },
  {
   "cell_type": "code",
   "execution_count": 7,
   "metadata": {},
   "outputs": [
    {
     "name": "stdout",
     "output_type": "stream",
     "text": [
      "Enter the first number: 30.8\n",
      "Enter the second number: 23.9\n",
      "The result of the division of the first number by the second number is:  1.288702928870293\n"
     ]
    }
   ],
   "source": [
    "x = float(input(\"Enter the first number: \"))\n",
    "y = float(input(\"Enter the second number: \"))\n",
    "\n",
    "result = x/y\n",
    "\n",
    "print(\"The result of the division of the first number by the second number is: \", result)"
   ]
  },
  {
   "cell_type": "markdown",
   "metadata": {},
   "source": [
    "Quiz 4 : Create a list of 10 integers. Using the list find the solution to the following problems.\n",
    "\n",
    "1. print the first item\n",
    "2. print the first 3 items\n",
    "3. print the next 4 items after the fifth item\n",
    "4. print the sum of the first item and the last item\n",
    "5. print the result when each item is multiplied by 2"
   ]
  },
  {
   "cell_type": "code",
   "execution_count": 5,
   "metadata": {},
   "outputs": [
    {
     "name": "stdout",
     "output_type": "stream",
     "text": [
      "The first item on the list is:  10\n",
      "The first 3 items on the list is:  [10, 20, 30]\n",
      "the next 4 items after the 5th item is:  [70, 80, 90, 100]\n",
      "the sum of the first item and the last item is:  110\n",
      "the result when each item is multiplied by 2:  [20, 40, 60, 80, 100, 120, 140, 160, 180, 200]\n"
     ]
    }
   ],
   "source": [
    "#performing list operations \n",
    "z = [10,20,30,40,50,60,70,80,90,100]\n",
    "sum = z[0] + z[9]\n",
    "result = [\n",
    "         z[0]*2,\n",
    "         z[1]*2,\n",
    "         z[2]*2,\n",
    "         z[3]*2,\n",
    "         z[4]*2,\n",
    "         z[5]*2,\n",
    "         z[6]*2,\n",
    "         z[7]*2,\n",
    "         z[8]*2,\n",
    "         z[9]*2\n",
    "         ]\n",
    "\n",
    "\n",
    "print(\"The first item on the list is: \", z[0])\n",
    "print(\"The first 3 items on the list is: \", z[:3])\n",
    "print(\"the next 4 items after the 5th item is: \", z[6:])\n",
    "print(\"the sum of the first item and the last item is: \", sum )\n",
    "print(\"the result when each item is multiplied by 2: \", result)"
   ]
  }
 ],
 "metadata": {
  "kernelspec": {
   "display_name": "Python 3",
   "language": "python",
   "name": "python3"
  },
  "language_info": {
   "codemirror_mode": {
    "name": "ipython",
    "version": 3
   },
   "file_extension": ".py",
   "mimetype": "text/x-python",
   "name": "python",
   "nbconvert_exporter": "python",
   "pygments_lexer": "ipython3",
   "version": "3.7.3"
  }
 },
 "nbformat": 4,
 "nbformat_minor": 2
}

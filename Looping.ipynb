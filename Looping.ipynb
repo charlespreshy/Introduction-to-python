{
 "cells": [
  {
   "cell_type": "markdown",
   "metadata": {},
   "source": [
    "#### Looping\n",
    "Looping is used for repetition. We have two types of loop statements: \n",
    "1.\tfor loop\n",
    "2.\twhile loop"
   ]
  },
  {
   "cell_type": "code",
   "execution_count": 2,
   "metadata": {},
   "outputs": [
    {
     "name": "stdout",
     "output_type": "stream",
     "text": [
      "go home and sleep\n",
      "go home and sleep\n",
      "go home and sleep\n",
      "go home and sleep\n",
      "go home and sleep\n",
      "go home and sleep\n",
      "go home and sleep\n",
      "go home and sleep\n",
      "go home and sleep\n",
      "go home and sleep\n"
     ]
    }
   ],
   "source": [
    "#for loop\n",
    "for i in range(10):\n",
    "    print(\"go home and sleep\")"
   ]
  },
  {
   "cell_type": "code",
   "execution_count": 6,
   "metadata": {},
   "outputs": [
    {
     "name": "stdout",
     "output_type": "stream",
     "text": [
      "enter a num:1\n",
      "1\n",
      "enter a num:3\n",
      "3\n",
      "enter a num:4\n",
      "4\n",
      "enter a num:5\n",
      "5\n",
      "enter a num:6\n",
      "6\n"
     ]
    }
   ],
   "source": [
    "for i in range(5):\n",
    "    number =int(input(\"enter a num:\"))\n",
    "    print(number)\n"
   ]
  },
  {
   "cell_type": "code",
   "execution_count": 50,
   "metadata": {},
   "outputs": [
    {
     "name": "stdout",
     "output_type": "stream",
     "text": [
      "0\n",
      "2\n",
      "4\n",
      "6\n",
      "8\n"
     ]
    }
   ],
   "source": [
    "for i in range(0,10,2):\n",
    "    print(i)\n"
   ]
  },
  {
   "cell_type": "code",
   "execution_count": 9,
   "metadata": {},
   "outputs": [
    {
     "name": "stdout",
     "output_type": "stream",
     "text": [
      "*****\n",
      "*****\n",
      "*****\n",
      "*****\n",
      "*****\n"
     ]
    }
   ],
   "source": [
    "for i in range (5):\n",
    "    print(\"*\" * 5)\n"
   ]
  },
  {
   "cell_type": "code",
   "execution_count": 44,
   "metadata": {},
   "outputs": [
    {
     "name": "stdout",
     "output_type": "stream",
     "text": [
      "*\n",
      "**\n",
      "***\n",
      "****\n",
      "*****\n",
      "******\n"
     ]
    }
   ],
   "source": [
    "for i in range (6):\n",
    "    print(\"*\" * (i + 1)) \n",
    "    (\"n/b i is a value\")"
   ]
  },
  {
   "cell_type": "code",
   "execution_count": 14,
   "metadata": {},
   "outputs": [
    {
     "name": "stdout",
     "output_type": "stream",
     "text": [
      "caught you\n"
     ]
    }
   ],
   "source": [
    "foods = (\"rice\", \"beans\", \"orange\")\n",
    "for x in foods:\n",
    "    if x == \"beans\":\n",
    "        print(\"caught you\")\n",
    "        \n"
   ]
  },
  {
   "cell_type": "markdown",
   "metadata": {},
   "source": [
    "Quiz:\n",
    "1.\twrite a program that will print your name 50 times\n",
    "2.\twrite a program that asks the user for their name and how many times to print it. the program should print out the user's name the specified number of times\n",
    "3.\twrite a program that uses a for loop to print the numbers 100, 98,....,4,2.\n"
   ]
  },
  {
   "cell_type": "code",
   "execution_count": 15,
   "metadata": {},
   "outputs": [
    {
     "name": "stdout",
     "output_type": "stream",
     "text": [
      "Precious\n",
      "Precious\n",
      "Precious\n",
      "Precious\n",
      "Precious\n",
      "Precious\n",
      "Precious\n",
      "Precious\n",
      "Precious\n",
      "Precious\n",
      "Precious\n",
      "Precious\n",
      "Precious\n",
      "Precious\n",
      "Precious\n",
      "Precious\n",
      "Precious\n",
      "Precious\n",
      "Precious\n",
      "Precious\n",
      "Precious\n",
      "Precious\n",
      "Precious\n",
      "Precious\n",
      "Precious\n",
      "Precious\n",
      "Precious\n",
      "Precious\n",
      "Precious\n",
      "Precious\n",
      "Precious\n",
      "Precious\n",
      "Precious\n",
      "Precious\n",
      "Precious\n",
      "Precious\n",
      "Precious\n",
      "Precious\n",
      "Precious\n",
      "Precious\n",
      "Precious\n",
      "Precious\n",
      "Precious\n",
      "Precious\n",
      "Precious\n",
      "Precious\n",
      "Precious\n",
      "Precious\n",
      "Precious\n",
      "Precious\n"
     ]
    }
   ],
   "source": [
    "#A program that prints your name 50 times\n",
    "for i in range(50):\n",
    "    print(\"Precious\")"
   ]
  },
  {
   "cell_type": "code",
   "execution_count": 18,
   "metadata": {},
   "outputs": [
    {
     "name": "stdout",
     "output_type": "stream",
     "text": [
      "What is your name? precious\n",
      "How many times do you wish to display your name? 3\n",
      "precious\n",
      "precious\n",
      "precious\n"
     ]
    }
   ],
   "source": [
    "\"\"\"A program that asks the user for their name and how many times to print it. \n",
    "the program should print out the user's name the specified number of times\"\"\"\n",
    "\n",
    "name = input(\"What is your name? \")\n",
    "x = int(input(\"How many times do you wish to display your name? \"))\n",
    "\n",
    "for i in range(x):\n",
    "    print(name)"
   ]
  },
  {
   "cell_type": "code",
   "execution_count": 51,
   "metadata": {},
   "outputs": [
    {
     "name": "stdout",
     "output_type": "stream",
     "text": [
      "100\n",
      "98\n",
      "96\n",
      "94\n",
      "92\n",
      "90\n",
      "88\n",
      "86\n",
      "84\n",
      "82\n",
      "80\n",
      "78\n",
      "76\n",
      "74\n",
      "72\n",
      "70\n",
      "68\n",
      "66\n",
      "64\n",
      "62\n",
      "60\n",
      "58\n",
      "56\n",
      "54\n",
      "52\n",
      "50\n",
      "48\n",
      "46\n",
      "44\n",
      "42\n",
      "40\n",
      "38\n",
      "36\n",
      "34\n",
      "32\n",
      "30\n",
      "28\n",
      "26\n",
      "24\n",
      "22\n",
      "20\n",
      "18\n",
      "16\n",
      "14\n",
      "12\n",
      "10\n",
      "8\n",
      "6\n",
      "4\n",
      "2\n"
     ]
    }
   ],
   "source": [
    "#A program that uses a for loop to print the numbers 100, 98,....,4,2.\n",
    "\n",
    "for i in range(100,0,-2):\n",
    "    print(i)\n"
   ]
  }
 ],
 "metadata": {
  "kernelspec": {
   "display_name": "Python 3",
   "language": "python",
   "name": "python3"
  },
  "language_info": {
   "codemirror_mode": {
    "name": "ipython",
    "version": 3
   },
   "file_extension": ".py",
   "mimetype": "text/x-python",
   "name": "python",
   "nbconvert_exporter": "python",
   "pygments_lexer": "ipython3",
   "version": "3.7.3"
  }
 },
 "nbformat": 4,
 "nbformat_minor": 2
}
